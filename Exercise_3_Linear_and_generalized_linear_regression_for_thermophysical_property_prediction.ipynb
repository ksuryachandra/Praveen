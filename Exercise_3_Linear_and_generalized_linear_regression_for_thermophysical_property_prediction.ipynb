{
  "nbformat": 4,
  "nbformat_minor": 0,
  "metadata": {
    "colab": {
      "name": "Exercise_3_Linear and generalized linear regression for thermophysical property prediction.ipynb",
      "provenance": []
    },
    "kernelspec": {
      "name": "python3",
      "display_name": "Python 3"
    },
    "language_info": {
      "name": "python"
    }
  },
  "cells": [
    {
      "cell_type": "markdown",
      "source": [
        "# Exercise 3. Linear regression for saturated and superheated vapor properties prediction"
      ],
      "metadata": {
        "id": "mltE3GprMezc"
      }
    },
    {
      "cell_type": "markdown",
      "source": [
        "The data is taken from this book: Introduction to Chemical Engineering Thermodynamics by J. M. Smith, H. C. Van Ness and M. M. Abbott, 7th Edition. Appendix F."
      ],
      "metadata": {
        "id": "O8HLcupPMy5-"
      }
    },
    {
      "cell_type": "markdown",
      "metadata": {
        "id": "I_b7gho1JA6L"
      },
      "source": [
        "### Import libraries"
      ]
    },
    {
      "cell_type": "code",
      "execution_count": null,
      "metadata": {
        "id": "H-wT_7-7MYwQ"
      },
      "outputs": [],
      "source": [
        "import numpy as np\n",
        "import pandas as pd\n",
        "import matplotlib.pyplot as plt\n",
        "from sklearn.preprocessing import StandardScaler\n",
        "from sklearn.linear_model import LinearRegression\n",
        "from mpl_toolkits.mplot3d import Axes3D\n",
        "from matplotlib import cm\n",
        "from sklearn.preprocessing import PolynomialFeatures\n",
        "from sklearn.pipeline import Pipeline\n",
        "from sklearn.base import BaseEstimator, TransformerMixin\n",
        "from sklearn.model_selection import train_test_split\n",
        "#%matplotlib inline "
      ]
    },
    {
      "cell_type": "markdown",
      "metadata": {
        "id": "Kj6uyrseJA6X"
      },
      "source": [
        "### Import data from the .csv file\n",
        " First step is always important: **check your raw data**."
      ]
    },
    {
      "cell_type": "code",
      "source": [
        "data = pd.read_csv(\"/content/DATA_superheated_vapor.csv\")  # Import superheated vapor data\n",
        "data.head()                                       # Preview the first 5 lines of the loaded data"
      ],
      "metadata": {
        "id": "OqAckSZ7NWls"
      },
      "execution_count": null,
      "outputs": []
    },
    {
      "cell_type": "markdown",
      "metadata": {
        "id": "K0G6foooJA6b"
      },
      "source": [
        "### Separate the data according to the property\n",
        "\n",
        "Since, we have different thermophysical properties, it make sense (at this step) to separate the data into each one of them to build independent models for each one of those. After this, **ploting the data** is always useful. So, let's see what shapes we are dealing with, what trend the data follows, etcetera."
      ]
    },
    {
      "cell_type": "code",
      "execution_count": null,
      "metadata": {
        "id": "O3GnAkNqJA6d"
      },
      "outputs": [],
      "source": [
        "V_data = data.loc[data['Property'] == 'V']\n",
        "U_data = data.loc[data['Property'] == 'U']\n",
        "H_data = data.loc[data['Property'] == 'H']\n",
        "S_data = data.loc[data['Property'] == 'S']"
      ]
    },
    {
      "cell_type": "code",
      "execution_count": null,
      "metadata": {
        "id": "CJaK_JsRJA6f"
      },
      "outputs": [],
      "source": [
        "# Plot saturated liquid\n",
        "plt.figure(figsize=(13, 7))\n",
        "plt.subplot(221)\n",
        "plt.plot(V_data['Pressure'], V_data['Liq_Sat'], 'kx', markersize=3)\n",
        "plt.xlabel('Pressure [kPa]')\n",
        "plt.ylabel('Specific volume [$cm^3 g^{-1}$]')\n",
        "\n",
        "plt.subplot(222)\n",
        "plt.plot(U_data['Pressure'], U_data['Liq_Sat'], 'kx', markersize=3)\n",
        "plt.xlabel('Pressure [kPa]')\n",
        "plt.ylabel('Specific internal energy [$kJ kg^{-1}$]')\n",
        "\n",
        "plt.subplot(223)\n",
        "plt.plot(H_data['Pressure'], H_data['Liq_Sat'], 'kx', markersize=3)\n",
        "plt.xlabel('Pressure [kPa]')\n",
        "plt.ylabel('Specific entalphy [$kJ kg^{-1}$]')\n",
        "\n",
        "plt.subplot(224)\n",
        "plt.plot(S_data['Pressure'], S_data['Liq_Sat'], 'kx', markersize=3)\n",
        "plt.xlabel('Pressure [kPa]')\n",
        "plt.ylabel('Specific enthropy [$kJ kg^{-1} K^{-1}$]')\n",
        "\n",
        "plt.suptitle('Saturated liquid', size=15)\n",
        "plt.show()"
      ]
    },
    {
      "cell_type": "code",
      "execution_count": null,
      "metadata": {
        "id": "beHtHx63JA6i"
      },
      "outputs": [],
      "source": [
        "# Similarly you can try yourself to Plot saturated vapor Data\n",
        "plt.figure(figsize=(13, 7))\n",
        "plt.subplot(221)\n",
        "plt.plot(V_data['Pressure'], V_data['Vap_Sat'], 'bx', markersize=3)\n",
        "plt.xlabel('Pressure [kPa]')\n",
        "plt.ylabel('Specific volume [$cm^3 g^{-1}$]')\n",
        "\n",
        "plt.subplot(222)\n",
        "plt.plot(U_data['Pressure'], U_data['Vap_Sat'], 'bx', markersize=3)\n",
        "plt.xlabel('Pressure [kPa]')\n",
        "plt.ylabel('Specific internal energy [$kJ kg^{-1}$]')\n",
        "\n",
        "plt.subplot(223)\n",
        "plt.plot(H_data['Pressure'], H_data['Vap_Sat'], 'bx', markersize=3)\n",
        "plt.xlabel('Pressure [kPa]')\n",
        "plt.ylabel('Specific entalphy [$kJ kg^{-1}$]')\n",
        "\n",
        "plt.subplot(224)\n",
        "plt.plot(S_data['Pressure'], S_data['Vap_Sat'], 'bx', markersize=3)\n",
        "plt.xlabel('Pressure [kPa]')\n",
        "plt.ylabel('Specific enthropy [$kJ kg^{-1} K^{-1}$]')\n",
        "\n",
        "plt.suptitle('Saturated vapor', size=15)\n",
        "plt.show()"
      ]
    },
    {
      "cell_type": "markdown",
      "metadata": {
        "id": "jYmutovfJA6l"
      },
      "source": [
        "### For this exercise lecture, let's work with the specific volume of the saturated liquid\n",
        "\n",
        "Our goal is to build a mathematical model (simple linear regression for now), that predicts the specific volume of a saturated vapor as a function of the pressure. First, we need to realize that a simple line is not going to fit well the whole range of pressures (THIS IS THE IMPORTANCE OF LOOKING AT YOUR DATA FIRST!). Therefore, let's generate some subranges to approximate the experimental data using linear regression.\n",
        "\n",
        "#### Plot specific volume of saturated liquid with subranges\n",
        "\n",
        "I suggest something like this."
      ]
    },
    {
      "cell_type": "code",
      "execution_count": null,
      "metadata": {
        "id": "LfsKZpK_JA6m"
      },
      "outputs": [],
      "source": [
        "plt.figure()\n",
        "plt.plot(V_data['Pressure'], V_data['Liq_Sat'], 'kx', markersize=3)\n",
        "plt.axvline(1500, linestyle='--', color='r')\n",
        "plt.axvline(300, linestyle='--', color='r')\n",
        "plt.xlabel('Pressure [kPa]')\n",
        "plt.ylabel('Specific volume [$cm^3 g^{-1}$]')\n",
        "plt.title('Saturated liquid', size=15)\n",
        "plt.show()"
      ]
    },
    {
      "cell_type": "markdown",
      "metadata": {
        "id": "RpImoxPkJA6o"
      },
      "source": [
        "#### Therefore, let's split our data further to get each one of those sections"
      ]
    },
    {
      "cell_type": "code",
      "execution_count": null,
      "metadata": {
        "id": "2-BM7yU0JA6o"
      },
      "outputs": [],
      "source": [
        "First_P  = V_data['Pressure'].loc[V_data['Pressure'] < 300] \n",
        "First_V  = V_data['Liq_Sat'].loc[V_data['Pressure'] < 300]\n",
        "\n",
        "Second_P = V_data['Pressure'].loc[(V_data['Pressure'] >= 300) & \n",
        "                                  (V_data['Pressure'] < 1500)]\n",
        "Second_V = V_data['Liq_Sat'].loc[(V_data['Pressure'] >= 300) & \n",
        "                                  (V_data['Pressure'] < 1500)]\n",
        "\n",
        "Third_P  = V_data['Pressure'].loc[V_data['Pressure'] >= 1500]\n",
        "Third_V  = V_data['Liq_Sat'].loc[V_data['Pressure'] >= 1500]"
      ]
    },
    {
      "cell_type": "code",
      "source": [
        "type(First_P)"
      ],
      "metadata": {
        "id": "MkW-12alf0gh"
      },
      "execution_count": null,
      "outputs": []
    },
    {
      "cell_type": "markdown",
      "metadata": {
        "id": "59kYXAJVJA67"
      },
      "source": [
        "#### We will use [sklearn for linear regression](https://scikit-learn.org/stable/modules/generated/sklearn.linear_model.LinearRegression.html)\n",
        "\n",
        "**Note:** We can also use numpy library (Mathematical operations) to define the optimization problem of Linear regression by writting all the equations from the scratch whereas sklearn has already defined LinearRegression function in which all those equations are coded in standard form and we can solve any Linear Regression problem by just writting few lines of code.\n",
        "\n",
        "#### You can also try to write the equations from scratch using numpy library and compare the results with sklearn automatic implementation for better understanding."
      ]
    },
    {
      "cell_type": "code",
      "execution_count": null,
      "metadata": {
        "id": "Oo05fhGzJA68"
      },
      "outputs": [],
      "source": [
        "# Let's use sklearn, and code everything in a couple of lines\n",
        "LR_sklearn_1 = LinearRegression().fit(np.array(First_P).reshape(-1, 1), First_V)\n",
        "LR_sklearn_2 = LinearRegression().fit(np.array(Second_P).reshape(-1, 1), Second_V)\n",
        "LR_sklearn_3 = LinearRegression().fit(np.array(Third_P).reshape(-1, 1), Third_V)\n",
        "\n",
        "# - Plot splits and models\n",
        "plt.figure()\n",
        "plt.title('Using sklearn', size=15)\n",
        "plt.xlabel('Pressure [kPa]')\n",
        "plt.ylabel('Specific volume [$cm^3 g^{-1}$]')\n",
        "\n",
        "# -- First split\n",
        "plt.plot(First_P, First_V, 'rx', markersize=2, label='1st Split data')    # Traning data\n",
        "plt.plot(np.linspace(0,1000, 100), LR_sklearn_1.predict(np.linspace(0,1000, 100).reshape(-1, 1)),'r', linewidth=1,\n",
        "         label='1st LR sklearn')  # Using sklearn\n",
        "\n",
        "# -- Second split\n",
        "plt.plot(Second_P, Second_V, 'bx', markersize=2, label='2nd Split data')  # Using sklearn\n",
        "plt.plot(np.linspace(300,2500, 100), LR_sklearn_2.predict(np.linspace(300,2500, 100).reshape(-1, 1)),'b', linewidth=1, \n",
        "         label='2nd LR sklearn')  # Using sklearn\n",
        "\n",
        "\n",
        "# -- Third split\n",
        "plt.plot(Third_P, Third_V, 'kx', markersize=2, label='3rd Split data')    # Using sklearn\n",
        "plt.plot(np.linspace(2000,11500, 100), LR_sklearn_3.predict(np.linspace(2000,11500, 100).reshape(-1, 1)),'k', linewidth=1,\n",
        "         label='3rd LR sklearn')  # Using sklearn\n",
        "\n",
        "plt.legend()\n",
        "plt.show()"
      ]
    },
    {
      "cell_type": "markdown",
      "metadata": {
        "id": "xyj6oTG_JA6-"
      },
      "source": [
        "#### We can check how well our model is fitting our training data by printing the $R^2$ coefficient\n",
        "\n",
        "The coefficient $R^2$ is defined as $1 - \\frac{u}{v}$, where $u$ is the residual sum of squares $\\sum (y_{true} - y_{pred})^2$ and $v$ is the total sum of squares $\\sum (y_{true} - y_{true}^{mean})^2$. The best possible score is 1.0 and it can be negative (because the model can be arbitrarily worse). A constant model that always predicts the expected value of $y$, disregarding the input features, would get a $R^2$ score of 0.0."
      ]
    },
    {
      "cell_type": "code",
      "execution_count": null,
      "metadata": {
        "id": "1vtknArnJA6_"
      },
      "outputs": [],
      "source": [
        "# -- Let's print the R**2 to get an idea of how well our model is fitting the data\n",
        "print('\\n R2 for 1st split:', LR_sklearn_1.score(np.array(First_P).reshape(-1, 1), First_V))\n",
        "print('\\n R2 for 2nd split:', LR_sklearn_2.score(np.array(Second_P).reshape(-1, 1), Second_V))\n",
        "print('\\n R2 for 3rd split:', LR_sklearn_3.score(np.array(Third_P).reshape(-1, 1), Third_V))"
      ]
    },
    {
      "cell_type": "markdown",
      "metadata": {
        "id": "FNWDtMr4JA7A"
      },
      "source": [
        "#### We can also check the parameter values"
      ]
    },
    {
      "cell_type": "code",
      "execution_count": null,
      "metadata": {
        "id": "CHX0_nZhJA7A"
      },
      "outputs": [],
      "source": [
        "# -- You can also have access to the parameters of the LR in sklearn\n",
        "print('\\n Slope for 1st split    :', LR_sklearn_1.coef_)\n",
        "print(' Intercept for 1st split:', LR_sklearn_1.intercept_)\n",
        "\n",
        "print('\\n Slope for 2nd split    :', LR_sklearn_2.coef_)\n",
        "print(' Intercept for 2nd split:', LR_sklearn_2.intercept_)\n",
        "\n",
        "print('\\n Slope for 3rd split    :', LR_sklearn_3.coef_)\n",
        "print(' Intercept for 3rd split:', LR_sklearn_3.intercept_)"
      ]
    },
    {
      "cell_type": "markdown",
      "metadata": {
        "id": "C4b6Ti_mJA7C"
      },
      "source": [
        "### Now, let's work with our superheated vapor data\n",
        "\n",
        "In our data set, we have a bunch of data corresponding to superheated vapor. We can take a look into it to see how can we create a mathematical model for it, in order to use it later for process simulation or process optimization. For this first exercise lecture, let's work with the enthalpy."
      ]
    },
    {
      "cell_type": "code",
      "execution_count": null,
      "metadata": {
        "id": "lvSXXVpLJA7D"
      },
      "outputs": [],
      "source": [
        "# - First, let's plot the data available to see if we can observe certain pattern\n",
        "\n",
        "#%matplotlib qt\n",
        "\n",
        "fig = plt.figure(figsize=(10,5))\n",
        "ax = Axes3D(fig)\n",
        "x = H_data['Pressure']\n",
        "y = np.array([int(H_data.columns[4:][i]) for i in range(len(H_data.columns[4:]))])     # for loop is used to visit every element and to make it integer type\n",
        "X,Y = np.meshgrid(x,y)\n",
        "Z = H_data.loc[:, '75':'650']\n",
        "\n",
        "ax.scatter(X, Y, Z.T)\n",
        "ax.set_xlabel('Pressure [kPa]')\n",
        "ax.set_ylabel('Temperature [°C]')\n",
        "ax.set_zlabel('Specific entalphy [$kJ kg^{-1}$]')\n",
        "ax.set_title('Superheated vapor', size=15)\n",
        "plt.show()"
      ]
    },
    {
      "cell_type": "markdown",
      "metadata": {
        "id": "8gw5d9YCJA7o"
      },
      "source": [
        "#### It seems like a multivariate linear regression would fit our experimental data quite well\n",
        "\n",
        "Let's jump and use sklearn directly"
      ]
    },
    {
      "cell_type": "code",
      "execution_count": null,
      "metadata": {
        "id": "_8Ebs3iuJA7p"
      },
      "outputs": [],
      "source": [
        "P   = X.reshape(-1,1)\n",
        "T   = Y.reshape(-1,1)\n",
        "P_T = np.append(P, T, axis=1) \n",
        "H   = np.array(Z.T).reshape(-1,1)\n",
        "\n",
        "# -- Clean data to eliminate NaN which cannot be used to fit the LR\n",
        "H_bool  = np.isnan(H)\n",
        "P_clean = np.zeros(len(P)-np.count_nonzero(H_bool))\n",
        "T_clean = np.zeros(len(P_clean))\n",
        "H_clean = np.zeros(len(P_clean))\n",
        "j = 0\n",
        "\n",
        "for i in range(P.shape[0]):\n",
        "    if H_bool[i] == False:\n",
        "        P_clean[j] = P[i]\n",
        "        T_clean[j] = T[i]\n",
        "        H_clean[j] = H[i]\n",
        "        j += 1\n",
        "\n",
        "P_T_clean = np.append(P_clean.reshape(-1,1), T_clean.reshape(-1,1), axis=1)       \n",
        "LR_SV     = LinearRegression().fit(P_T_clean, H_clean)\n",
        "\n",
        "# -- R2 score\n",
        "print('\\n R2 for LR_SV:', LR_SV.score(P_T_clean, H_clean))"
      ]
    },
    {
      "cell_type": "code",
      "source": [
        "# -- You can also have access to the parameters of the LR in sklearn\n",
        "print('\\n Slope for 1st split    :', LR_SV.coef_)       # \\n is used to give space between print statements before that\n",
        "print(' Intercept for 1st split:', LR_SV.intercept_)"
      ],
      "metadata": {
        "id": "8Pxq-fUu3jjf"
      },
      "execution_count": null,
      "outputs": []
    },
    {
      "cell_type": "markdown",
      "metadata": {
        "id": "eVyY3HYlJA7q"
      },
      "source": [
        "#### Finally, let's plot our model"
      ]
    },
    {
      "cell_type": "code",
      "execution_count": null,
      "metadata": {
        "id": "7lN8nAJ1JA7r"
      },
      "outputs": [],
      "source": [
        "# - Plot LR and training data\n",
        "fig = plt.figure(figsize=(10,5))\n",
        "ax = Axes3D(fig)\n",
        "\n",
        "x = H_data['Pressure']\n",
        "y = np.array([int(H_data.columns[4:][i]) for i in range(len(H_data.columns[4:]))])\n",
        "\n",
        "X,Y     = np.meshgrid(x,y)\n",
        "Z       = H_data.loc[:, '75':'650']\n",
        "\n",
        "ax.scatter(X, Y, Z.T)\n",
        "\n",
        "# -- Predictions\n",
        "LR_Predictions = LR_SV.predict(np.append(X.reshape(-1,1), Y.reshape(-1,1), axis=1)).reshape(X.shape)\n",
        "\n",
        "ax.plot_surface(X, Y, LR_Predictions, cmap=cm.coolwarm)\n",
        "ax.set_xlabel('Pressure [kPa]')\n",
        "ax.set_ylabel('Temperature [°C]')\n",
        "ax.set_zlabel('Specific entalphy [$kJ kg^{-1}$]')\n",
        "ax.set_title('Superheated vapor', size=15)\n",
        "plt.show()"
      ]
    },
    {
      "cell_type": "code",
      "source": [
        "###########  End of Linear Regression #################"
      ],
      "metadata": {
        "id": "lr8zxsCfhgGe"
      },
      "execution_count": null,
      "outputs": []
    },
    {
      "cell_type": "markdown",
      "metadata": {
        "id": "3lbyRBGYJM5z"
      },
      "source": [
        "## Polynomial regression (Generalised Linear Regression) using sklearn"
      ]
    },
    {
      "cell_type": "markdown",
      "metadata": {
        "id": "QZAOMmamJM5j"
      },
      "source": [
        "So far we sectioned the data into three parts (in case of Saturated liquids) and we approximate each part with\n",
        "linear regression. In this way, we obtained a discrete model for the whole range of pressures. This\n",
        "type of discrete models can be sometimes troublesome when applied to optimization problems (e.g.\n",
        "they have points where the gradient does not exist). Therefore, now we will try to construct a \n",
        "smooth model (without this discrete features) using polynomial regression.\n",
        "\n",
        "Just to cite here also. The data is taken from this book: Introduction to Chemical Engineering Thermodynamics by J. M. Smith, H. C. Van Ness and M. M. Abbott, 7th Edition. Appendix F."
      ]
    },
    {
      "cell_type": "code",
      "execution_count": null,
      "metadata": {
        "id": "iswAqRu-DUW8"
      },
      "outputs": [],
      "source": [
        "\n",
        "#Collecting Data in two variables\n",
        "P = V_data['Pressure']\n",
        "V = V_data['Liq_Sat']\n",
        "\n",
        "P = np.array(P).reshape(-1,1)\n",
        "V = np.array(V)"
      ]
    },
    {
      "cell_type": "code",
      "execution_count": null,
      "metadata": {
        "id": "44iDkWJ5DUW-"
      },
      "outputs": [],
      "source": [
        "#polynomial Features and  scaling\n",
        "feature_1 = P**2\n",
        "feature_2 = P**3\n",
        "feature_3 = P**4\n",
        "feature_4 = P**5\n",
        "\n",
        "new_features = [feature_1, feature_2, feature_3, feature_4]          # List of new features"
      ]
    },
    {
      "cell_type": "code",
      "execution_count": null,
      "metadata": {
        "id": "mcvFkpcaDUXB"
      },
      "outputs": [],
      "source": [
        "Features = P\n",
        "for new in new_features:\n",
        "    Features    = np.append(Features, new, axis=1)\n",
        "\n",
        "ss          = StandardScaler()\n",
        "scaler      = ss.fit(Features)\n",
        "Features_ss = scaler.transform(Features)\n",
        "\n",
        "# ------ Remember what the standarization is doing\n",
        "print('  Mean: ', np.mean(Features_ss, axis=0))\n",
        "print('\\n Standard deviation: ', np.std(Features_ss, axis=0))"
      ]
    },
    {
      "cell_type": "code",
      "execution_count": null,
      "metadata": {
        "id": "c1Uo4p4eJM5z"
      },
      "outputs": [],
      "source": [
        "x_train, x_test, y_train, y_test = train_test_split(P, V, test_size= 0.2, random_state= 2)\n",
        "\n",
        "pf = PolynomialFeatures(degree=4, include_bias=False) \n",
        "#include_bias should be set to false (must) because later linear regression.fit will automatically add columns of 1\n",
        "ss = StandardScaler()\n",
        "LR = LinearRegression()\n",
        "\n",
        "# Define pipeline\n",
        "PR_sklearn = Pipeline([(\"pf\", pf),  (\"ss\", ss), (\"LR\", LR), ])\n",
        "PR_sklearn.fit(P, V)\n",
        "\n",
        "# Plot polynomial prediction\n",
        "evaluation_points = np.linspace(1e-8, P[-1], 100)\n",
        "plt.figure()\n",
        "plt.plot(x_train, y_train, 'kx', markersize=3)\n",
        "plt.plot(evaluation_points, PR_sklearn.predict(evaluation_points), 'r', linewidth=1)\n",
        "plt.title('sklearn implementation', size=15)\n",
        "plt.xlabel('Pressure [kPa]')\n",
        "plt.ylabel('Specific volume [$cm^3 g^{-1}$]')\n",
        "plt.xlim((0, P[-1]))\n",
        "plt.ylim((V[0], V[-1]))\n",
        "plt.show()\n",
        "\n",
        "# Print model parameters\n",
        "print('Parameters: ', PR_sklearn['LR'].coef_)\n",
        "print('Intercept : ', PR_sklearn['LR'].intercept_)"
      ]
    },
    {
      "cell_type": "code",
      "source": [
        "print('\\n R2 for PR_sklearn:', PR_sklearn.score(x_test, y_test))\n",
        "A =[1,1.5]\n",
        "B = A\n",
        "plt.plot(A,B)\n",
        "plt.scatter(y_test, PR_sklearn.predict(x_test), c='r')"
      ],
      "metadata": {
        "id": "_uRByec-RgA_"
      },
      "execution_count": null,
      "outputs": []
    },
    {
      "cell_type": "markdown",
      "metadata": {
        "id": "wnUCb7fVJM50"
      },
      "source": [
        "### Using a different base"
      ]
    },
    {
      "cell_type": "code",
      "execution_count": null,
      "metadata": {
        "id": "mBOB4r0fJM51"
      },
      "outputs": [],
      "source": [
        "class log_feature(BaseEstimator, TransformerMixin):\n",
        "        \n",
        "    def fit(self,X,y=None):\n",
        "        return self\n",
        "        \n",
        "    def transform(self,X):\n",
        "       X_log = np.log(X)\n",
        "       X_new = np.hstack((X, X_log))\n",
        "       return X_new\n",
        "\n",
        "pf = log_feature()\n",
        "\n",
        "# Define pipeline\n",
        "PR_sklearn = Pipeline([(\"pf\", pf), (\"ss\", ss), (\"LR\", LR),])\n",
        "PR_sklearn.fit(P, V)\n",
        "\n",
        "# Plot polynomial prediction\n",
        "evaluation_points = np.linspace(1e-8, P[-1], 100)\n",
        "plt.figure()\n",
        "plt.plot(P, V, 'kx', markersize=3)\n",
        "plt.plot(evaluation_points, PR_sklearn.predict(evaluation_points), 'r', linewidth=1)\n",
        "plt.title('log sklearn', size=15)\n",
        "plt.xlabel('Pressure [kPa]')\n",
        "plt.ylabel('Specific volume [$cm^3 g^{-1}$]')\n",
        "plt.xlim((0, P[-1]))\n",
        "plt.ylim((V[0], V[-1]))\n",
        "plt.show()\n",
        "\n",
        "# Print model parameters\n",
        "print('Parameters: ', PR_sklearn['LR'].coef_)\n",
        "print('Intercept : ', PR_sklearn['LR'].intercept_)"
      ]
    },
    {
      "cell_type": "markdown",
      "source": [
        "**Note:** You can practice to build Linear regression model as well polynomial regression models on the remaining data that we didnot cover in the class.\n",
        "\n",
        "**Assignment 2:** Build a linear regression or polynomial regression model on the same data used in assignment 1. You are free to choose any number of features available in the data and any type of basis function.\n",
        "\n",
        "***2% marks will be given to top 5 students whose performance will be best on unseen data that I have. Decision will be taken by visualization as well as R2 score ***"
      ],
      "metadata": {
        "id": "tLqjhP6jNNVJ"
      }
    }
  ]
}